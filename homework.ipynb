{
 "cells": [
  {
   "cell_type": "code",
   "execution_count": null,
   "id": "35ea7d17",
   "metadata": {},
   "outputs": [],
   "source": [
    "1 . you have to write a fun which will take string and return a len of \n",
    "it without using a inbuilt fun len."
   ]
  },
  {
   "cell_type": "code",
   "execution_count": 7,
   "id": "1ffcc2af",
   "metadata": {},
   "outputs": [],
   "source": [
    "def length(s):\n",
    "    ''' fun which will take string and return a len of \n",
    "it'''\n",
    "    if type(s)==str:\n",
    "        count=0\n",
    "        for i in s:\n",
    "            count+=1\n",
    "        return count\n",
    "    else:\n",
    "        return \"its not a str\"\n",
    "    "
   ]
  },
  {
   "cell_type": "code",
   "execution_count": 8,
   "id": "5fb4ba3a",
   "metadata": {},
   "outputs": [
    {
     "data": {
      "text/plain": [
       "3"
      ]
     },
     "execution_count": 8,
     "metadata": {},
     "output_type": "execute_result"
    }
   ],
   "source": [
    "length(\"sam\")"
   ]
  },
  {
   "cell_type": "code",
   "execution_count": null,
   "id": "79f5ad04",
   "metadata": {},
   "outputs": [],
   "source": [
    "2 . write a fun which will be able to print an index of all premitive element which you will pass.\n"
   ]
  },
  {
   "cell_type": "code",
   "execution_count": 47,
   "id": "39355b24",
   "metadata": {},
   "outputs": [],
   "source": [
    "def ind(s):\n",
    "    '''fun which will be able to print an index of all premitive element which you will pass'''\n",
    "    for i in range(len(s)):\n",
    "        print(i,s[i])"
   ]
  },
  {
   "cell_type": "code",
   "execution_count": 48,
   "id": "bb459bae",
   "metadata": {},
   "outputs": [
    {
     "name": "stdout",
     "output_type": "stream",
     "text": [
      "0 s\n",
      "1 a\n",
      "2 m\n"
     ]
    }
   ],
   "source": [
    "ind(\"sam\")"
   ]
  },
  {
   "cell_type": "code",
   "execution_count": null,
   "id": "f8d77f85",
   "metadata": {},
   "outputs": [],
   "source": [
    "3 . Write a fun which will take input as a dict and give me out as a list of all the values \n",
    "even in case of 2 level nesting it should work . "
   ]
  },
  {
   "cell_type": "code",
   "execution_count": 7,
   "id": "6ce1becc",
   "metadata": {},
   "outputs": [],
   "source": [
    "def lst_of_items(d=\"{'key':'value'}\"):\n",
    "    '''fun which will take input as a dict and give out as a list of all the values'''\n",
    "    if type(d)==dict:\n",
    "        for i in d.values():\n",
    "            print([i])"
   ]
  },
  {
   "cell_type": "code",
   "execution_count": 8,
   "id": "b447e1d2",
   "metadata": {},
   "outputs": [
    {
     "name": "stdout",
     "output_type": "stream",
     "text": [
      "['apple']\n",
      "['ball']\n",
      "[{'sec-B', '1-block', '5th'}]\n"
     ]
    }
   ],
   "source": [
    "d = {\"a\":\"apple\",\"b\":\"ball\",\"class\":{\"5th\",\"sec-B\",\"1-block\"}}\n",
    "lst_of_items(d)"
   ]
  },
  {
   "cell_type": "code",
   "execution_count": null,
   "id": "5ac46699",
   "metadata": {},
   "outputs": [],
   "source": [
    "4 . write a fun which will take another function as an input and return me an output."
   ]
  },
  {
   "cell_type": "code",
   "execution_count": 19,
   "id": "1a192538",
   "metadata": {},
   "outputs": [],
   "source": [
    "def add(a,b):\n",
    "    '''fun which wil take two input and returns the sum'''\n",
    "    return (a+b)\n",
    "    "
   ]
  },
  {
   "cell_type": "code",
   "execution_count": 27,
   "id": "3eca6321",
   "metadata": {},
   "outputs": [
    {
     "data": {
      "text/plain": [
       "5"
      ]
     },
     "execution_count": 27,
     "metadata": {},
     "output_type": "execute_result"
    }
   ],
   "source": [
    "add(2,3)"
   ]
  },
  {
   "cell_type": "code",
   "execution_count": 31,
   "id": "2637e556",
   "metadata": {},
   "outputs": [],
   "source": [
    "def sub(a,b):\n",
    "    '''fun which wil take two input and returns the diff'''\n",
    "    return (a-b)"
   ]
  },
  {
   "cell_type": "code",
   "execution_count": 32,
   "id": "16705d76",
   "metadata": {},
   "outputs": [
    {
     "data": {
      "text/plain": [
       "4"
      ]
     },
     "execution_count": 32,
     "metadata": {},
     "output_type": "execute_result"
    }
   ],
   "source": [
    "sub(5,1)"
   ]
  },
  {
   "cell_type": "code",
   "execution_count": 29,
   "id": "6e864a01",
   "metadata": {},
   "outputs": [],
   "source": [
    "def fun(c,d):\n",
    "    '''fun which will take another function as an input and return me an output.'''\n",
    "    return(c,d)"
   ]
  },
  {
   "cell_type": "code",
   "execution_count": 30,
   "id": "8755fb04",
   "metadata": {},
   "outputs": [
    {
     "data": {
      "text/plain": [
       "(5, 3)"
      ]
     },
     "execution_count": 30,
     "metadata": {},
     "output_type": "execute_result"
    }
   ],
   "source": [
    "fun(add(2,3),sub(5,2))"
   ]
  },
  {
   "cell_type": "code",
   "execution_count": null,
   "id": "25386b97",
   "metadata": {},
   "outputs": [],
   "source": [
    "5. write a function whihc will take multiple list as a input and give me concatnation of all the element as \n",
    "and output"
   ]
  },
  {
   "cell_type": "code",
   "execution_count": 27,
   "id": "cce0233b",
   "metadata": {},
   "outputs": [],
   "source": [
    "def conc_lst(lst=\"enter a str element in list\"):\n",
    "    '''function whihc will take multiple list as a input and give me concatnation of all the element as \n",
    "and output\n",
    "eg conc_lst([\"a\",\"b\",\"c\",\"d\"])'''\n",
    "    if type(lst)==list:\n",
    "        for i in lst:\n",
    "            print(\" \".join(lst))\n",
    "            break\n",
    "    else:\n",
    "        print(\"enter a list\")\n"
   ]
  },
  {
   "cell_type": "code",
   "execution_count": 30,
   "id": "9c85045a",
   "metadata": {},
   "outputs": [
    {
     "name": "stdout",
     "output_type": "stream",
     "text": [
      "enter a list\n"
     ]
    }
   ],
   "source": [
    "conc_lst((\"2\",\"3\",\"4\",\"4\"))"
   ]
  },
  {
   "cell_type": "code",
   "execution_count": null,
   "id": "b83a372b",
   "metadata": {},
   "outputs": [],
   "source": [
    "6 . write a function which will be able to take a list as an input return an index of each element."
   ]
  }
 ],
 "metadata": {
  "kernelspec": {
   "display_name": "Python 3 (ipykernel)",
   "language": "python",
   "name": "python3"
  },
  "language_info": {
   "codemirror_mode": {
    "name": "ipython",
    "version": 3
   },
   "file_extension": ".py",
   "mimetype": "text/x-python",
   "name": "python",
   "nbconvert_exporter": "python",
   "pygments_lexer": "ipython3",
   "version": "3.9.7"
  }
 },
 "nbformat": 4,
 "nbformat_minor": 5
}
